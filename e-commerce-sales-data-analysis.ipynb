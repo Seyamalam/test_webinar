{
 "cells": [
  {
   "cell_type": "code",
   "execution_count": 1,
   "id": "22f53568",
   "metadata": {
    "_cell_guid": "b1076dfc-b9ad-4769-8c92-a6c4dae69d19",
    "_uuid": "8f2839f25d086af736a60e9eeb907d3b93b6e0e5",
    "execution": {
     "iopub.execute_input": "2024-04-07T08:03:42.072485Z",
     "iopub.status.busy": "2024-04-07T08:03:42.071694Z",
     "iopub.status.idle": "2024-04-07T08:03:42.858982Z",
     "shell.execute_reply": "2024-04-07T08:03:42.857882Z"
    },
    "papermill": {
     "duration": 0.803707,
     "end_time": "2024-04-07T08:03:42.861915",
     "exception": false,
     "start_time": "2024-04-07T08:03:42.058208",
     "status": "completed"
    },
    "tags": []
   },
   "outputs": [
    {
     "name": "stdout",
     "output_type": "stream",
     "text": [
      "/kaggle/input/e-commerece-sales-data-2024/E-commerece sales data 2024.csv\n",
      "/kaggle/input/e-commerece-sales-data-2024/product_details.csv\n",
      "/kaggle/input/e-commerece-sales-data-2024/customer_details.csv\n"
     ]
    }
   ],
   "source": [
    "# This Python 3 environment comes with many helpful analytics libraries installed\n",
    "# It is defined by the kaggle/python Docker image: https://github.com/kaggle/docker-python\n",
    "# For example, here's several helpful packages to load\n",
    "\n",
    "import numpy as np # linear algebra\n",
    "import pandas as pd # data processing, CSV file I/O (e.g. pd.read_csv)\n",
    "\n",
    "# Input data files are available in the read-only \"../input/\" directory\n",
    "# For example, running this (by clicking run or pressing Shift+Enter) will list all files under the input directory\n",
    "\n",
    "import os\n",
    "for dirname, _, filenames in os.walk('/kaggle/input'):\n",
    "    for filename in filenames:\n",
    "        print(os.path.join(dirname, filename))\n",
    "\n",
    "# You can write up to 20GB to the current directory (/kaggle/working/) that gets preserved as output when you create a version using \"Save & Run All\" \n",
    "# You can also write temporary files to /kaggle/temp/, but they won't be saved outside of the current session"
   ]
  },
  {
   "cell_type": "markdown",
   "id": "22da56b1",
   "metadata": {
    "papermill": {
     "duration": 0.010111,
     "end_time": "2024-04-07T08:03:42.882623",
     "exception": false,
     "start_time": "2024-04-07T08:03:42.872512",
     "status": "completed"
    },
    "tags": []
   },
   "source": [
    "# E-Commerece Sales Dataset"
   ]
  },
  {
   "cell_type": "markdown",
   "id": "aa5da3d5",
   "metadata": {
    "papermill": {
     "duration": 0.009772,
     "end_time": "2024-04-07T08:03:42.902361",
     "exception": false,
     "start_time": "2024-04-07T08:03:42.892589",
     "status": "completed"
    },
    "tags": []
   },
   "source": [
    "***Import E-commerece data set***"
   ]
  },
  {
   "cell_type": "code",
   "execution_count": 2,
   "id": "657526f6",
   "metadata": {
    "execution": {
     "iopub.execute_input": "2024-04-07T08:03:42.925553Z",
     "iopub.status.busy": "2024-04-07T08:03:42.924991Z",
     "iopub.status.idle": "2024-04-07T08:03:42.951050Z",
     "shell.execute_reply": "2024-04-07T08:03:42.950236Z"
    },
    "papermill": {
     "duration": 0.041106,
     "end_time": "2024-04-07T08:03:42.953456",
     "exception": false,
     "start_time": "2024-04-07T08:03:42.912350",
     "status": "completed"
    },
    "tags": []
   },
   "outputs": [],
   "source": [
    "df=pd.read_csv('E-commerece sales data 2024.csv')"
   ]
  },
  {
   "cell_type": "markdown",
   "id": "890be6be",
   "metadata": {
    "papermill": {
     "duration": 0.0099,
     "end_time": "2024-04-07T08:03:42.973768",
     "exception": false,
     "start_time": "2024-04-07T08:03:42.963868",
     "status": "completed"
    },
    "tags": []
   },
   "source": [
    "***Print head data***"
   ]
  },
  {
   "cell_type": "code",
   "execution_count": 3,
   "id": "e27d9505",
   "metadata": {
    "execution": {
     "iopub.execute_input": "2024-04-07T08:03:42.996051Z",
     "iopub.status.busy": "2024-04-07T08:03:42.995280Z",
     "iopub.status.idle": "2024-04-07T08:03:43.013344Z",
     "shell.execute_reply": "2024-04-07T08:03:43.012286Z"
    },
    "papermill": {
     "duration": 0.031807,
     "end_time": "2024-04-07T08:03:43.015707",
     "exception": false,
     "start_time": "2024-04-07T08:03:42.983900",
     "status": "completed"
    },
    "tags": []
   },
   "outputs": [
    {
     "data": {
      "text/html": [
       "<div>\n",
       "<style scoped>\n",
       "    .dataframe tbody tr th:only-of-type {\n",
       "        vertical-align: middle;\n",
       "    }\n",
       "\n",
       "    .dataframe tbody tr th {\n",
       "        vertical-align: top;\n",
       "    }\n",
       "\n",
       "    .dataframe thead th {\n",
       "        text-align: right;\n",
       "    }\n",
       "</style>\n",
       "<table border=\"1\" class=\"dataframe\">\n",
       "  <thead>\n",
       "    <tr style=\"text-align: right;\">\n",
       "      <th></th>\n",
       "      <th>user id</th>\n",
       "      <th>product id</th>\n",
       "      <th>Interaction type</th>\n",
       "      <th>Time stamp</th>\n",
       "      <th>Unnamed: 4</th>\n",
       "    </tr>\n",
       "  </thead>\n",
       "  <tbody>\n",
       "    <tr>\n",
       "      <th>0</th>\n",
       "      <td>1.0</td>\n",
       "      <td>4c69b61db1fc16e7013b43fc926e502d</td>\n",
       "      <td>purchase</td>\n",
       "      <td>10/10/2023 8:00</td>\n",
       "      <td>NaN</td>\n",
       "    </tr>\n",
       "    <tr>\n",
       "      <th>1</th>\n",
       "      <td>2.0</td>\n",
       "      <td>66d49bbed043f5be260fa9f7fbff5957</td>\n",
       "      <td>view</td>\n",
       "      <td>11/10/2023 8:00</td>\n",
       "      <td>NaN</td>\n",
       "    </tr>\n",
       "    <tr>\n",
       "      <th>2</th>\n",
       "      <td>3.0</td>\n",
       "      <td>2c55cae269aebf53838484b0d7dd931a</td>\n",
       "      <td>like</td>\n",
       "      <td>12/10/2023 8:00</td>\n",
       "      <td>NaN</td>\n",
       "    </tr>\n",
       "    <tr>\n",
       "      <th>3</th>\n",
       "      <td>4.0</td>\n",
       "      <td>18018b6bc416dab347b1b7db79994afa</td>\n",
       "      <td>view</td>\n",
       "      <td>13/10/2023 8:00</td>\n",
       "      <td>NaN</td>\n",
       "    </tr>\n",
       "    <tr>\n",
       "      <th>4</th>\n",
       "      <td>5.0</td>\n",
       "      <td>e04b990e95bf73bbe6a3fa09785d7cd0</td>\n",
       "      <td>like</td>\n",
       "      <td>14/10/2023 8:00</td>\n",
       "      <td>NaN</td>\n",
       "    </tr>\n",
       "  </tbody>\n",
       "</table>\n",
       "</div>"
      ],
      "text/plain": [
       "   user id                        product id Interaction type  \\\n",
       "0      1.0  4c69b61db1fc16e7013b43fc926e502d         purchase   \n",
       "1      2.0  66d49bbed043f5be260fa9f7fbff5957             view   \n",
       "2      3.0  2c55cae269aebf53838484b0d7dd931a             like   \n",
       "3      4.0  18018b6bc416dab347b1b7db79994afa             view   \n",
       "4      5.0  e04b990e95bf73bbe6a3fa09785d7cd0             like   \n",
       "\n",
       "        Time stamp  Unnamed: 4  \n",
       "0  10/10/2023 8:00         NaN  \n",
       "1  11/10/2023 8:00         NaN  \n",
       "2  12/10/2023 8:00         NaN  \n",
       "3  13/10/2023 8:00         NaN  \n",
       "4  14/10/2023 8:00         NaN  "
      ]
     },
     "execution_count": 3,
     "metadata": {},
     "output_type": "execute_result"
    }
   ],
   "source": [
    "df.head()"
   ]
  },
  {
   "cell_type": "markdown",
   "id": "f13240d5",
   "metadata": {
    "papermill": {
     "duration": 0.010148,
     "end_time": "2024-04-07T08:03:43.036380",
     "exception": false,
     "start_time": "2024-04-07T08:03:43.026232",
     "status": "completed"
    },
    "tags": []
   },
   "source": [
    "***Basic Information of E-Commerece data***"
   ]
  },
  {
   "cell_type": "code",
   "execution_count": 4,
   "id": "b73aa895",
   "metadata": {
    "execution": {
     "iopub.execute_input": "2024-04-07T08:03:43.058822Z",
     "iopub.status.busy": "2024-04-07T08:03:43.058431Z",
     "iopub.status.idle": "2024-04-07T08:03:43.080806Z",
     "shell.execute_reply": "2024-04-07T08:03:43.079745Z"
    },
    "papermill": {
     "duration": 0.03651,
     "end_time": "2024-04-07T08:03:43.083135",
     "exception": false,
     "start_time": "2024-04-07T08:03:43.046625",
     "status": "completed"
    },
    "tags": []
   },
   "outputs": [
    {
     "name": "stdout",
     "output_type": "stream",
     "text": [
      "<class 'pandas.core.frame.DataFrame'>\n",
      "RangeIndex: 3294 entries, 0 to 3293\n",
      "Data columns (total 5 columns):\n",
      " #   Column            Non-Null Count  Dtype  \n",
      "---  ------            --------------  -----  \n",
      " 0   user id           2999 non-null   float64\n",
      " 1   product id        2999 non-null   object \n",
      " 2   Interaction type  2871 non-null   object \n",
      " 3   Time stamp        2999 non-null   object \n",
      " 4   Unnamed: 4        0 non-null      float64\n",
      "dtypes: float64(2), object(3)\n",
      "memory usage: 128.8+ KB\n"
     ]
    }
   ],
   "source": [
    "df.info()"
   ]
  },
  {
   "cell_type": "markdown",
   "id": "1ee1f0e1",
   "metadata": {
    "papermill": {
     "duration": 0.010449,
     "end_time": "2024-04-07T08:03:43.104209",
     "exception": false,
     "start_time": "2024-04-07T08:03:43.093760",
     "status": "completed"
    },
    "tags": []
   },
   "source": [
    "***Check Null value***"
   ]
  },
  {
   "cell_type": "code",
   "execution_count": 5,
   "id": "79860498",
   "metadata": {
    "execution": {
     "iopub.execute_input": "2024-04-07T08:03:43.127465Z",
     "iopub.status.busy": "2024-04-07T08:03:43.126411Z",
     "iopub.status.idle": "2024-04-07T08:03:43.135046Z",
     "shell.execute_reply": "2024-04-07T08:03:43.134124Z"
    },
    "papermill": {
     "duration": 0.022273,
     "end_time": "2024-04-07T08:03:43.136998",
     "exception": false,
     "start_time": "2024-04-07T08:03:43.114725",
     "status": "completed"
    },
    "tags": []
   },
   "outputs": [
    {
     "data": {
      "text/plain": [
       "user id              295\n",
       "product id           295\n",
       "Interaction type     423\n",
       "Time stamp           295\n",
       "Unnamed: 4          3294\n",
       "dtype: int64"
      ]
     },
     "execution_count": 5,
     "metadata": {},
     "output_type": "execute_result"
    }
   ],
   "source": [
    "df.isnull().sum()"
   ]
  },
  {
   "cell_type": "markdown",
   "id": "edf050a7",
   "metadata": {
    "papermill": {
     "duration": 0.010179,
     "end_time": "2024-04-07T08:03:43.157593",
     "exception": false,
     "start_time": "2024-04-07T08:03:43.147414",
     "status": "completed"
    },
    "tags": []
   },
   "source": [
    "***Reomve raw columns***"
   ]
  },
  {
   "cell_type": "code",
   "execution_count": 6,
   "id": "432c8a69",
   "metadata": {
    "execution": {
     "iopub.execute_input": "2024-04-07T08:03:43.180294Z",
     "iopub.status.busy": "2024-04-07T08:03:43.179627Z",
     "iopub.status.idle": "2024-04-07T08:03:43.183847Z",
     "shell.execute_reply": "2024-04-07T08:03:43.183150Z"
    },
    "papermill": {
     "duration": 0.017729,
     "end_time": "2024-04-07T08:03:43.185744",
     "exception": false,
     "start_time": "2024-04-07T08:03:43.168015",
     "status": "completed"
    },
    "tags": []
   },
   "outputs": [],
   "source": [
    "remove=['Unnamed: 4','product id']"
   ]
  },
  {
   "cell_type": "markdown",
   "id": "38064a46",
   "metadata": {
    "papermill": {
     "duration": 0.010061,
     "end_time": "2024-04-07T08:03:43.206254",
     "exception": false,
     "start_time": "2024-04-07T08:03:43.196193",
     "status": "completed"
    },
    "tags": []
   },
   "source": [
    "***Drop Columns ***"
   ]
  },
  {
   "cell_type": "code",
   "execution_count": 7,
   "id": "981a1cad",
   "metadata": {
    "execution": {
     "iopub.execute_input": "2024-04-07T08:03:43.229024Z",
     "iopub.status.busy": "2024-04-07T08:03:43.228406Z",
     "iopub.status.idle": "2024-04-07T08:03:43.235822Z",
     "shell.execute_reply": "2024-04-07T08:03:43.235119Z"
    },
    "papermill": {
     "duration": 0.021278,
     "end_time": "2024-04-07T08:03:43.237837",
     "exception": false,
     "start_time": "2024-04-07T08:03:43.216559",
     "status": "completed"
    },
    "tags": []
   },
   "outputs": [],
   "source": [
    "df.drop(columns=remove,inplace=True)"
   ]
  },
  {
   "cell_type": "markdown",
   "id": "b2ed1666",
   "metadata": {
    "papermill": {
     "duration": 0.010108,
     "end_time": "2024-04-07T08:03:43.258456",
     "exception": false,
     "start_time": "2024-04-07T08:03:43.248348",
     "status": "completed"
    },
    "tags": []
   },
   "source": [
    "***Drop null value***"
   ]
  },
  {
   "cell_type": "code",
   "execution_count": 8,
   "id": "e097802c",
   "metadata": {
    "execution": {
     "iopub.execute_input": "2024-04-07T08:03:43.281499Z",
     "iopub.status.busy": "2024-04-07T08:03:43.280520Z",
     "iopub.status.idle": "2024-04-07T08:03:43.288435Z",
     "shell.execute_reply": "2024-04-07T08:03:43.287502Z"
    },
    "papermill": {
     "duration": 0.021652,
     "end_time": "2024-04-07T08:03:43.290488",
     "exception": false,
     "start_time": "2024-04-07T08:03:43.268836",
     "status": "completed"
    },
    "tags": []
   },
   "outputs": [],
   "source": [
    "df=df.dropna()"
   ]
  },
  {
   "cell_type": "markdown",
   "id": "0456ed9c",
   "metadata": {
    "papermill": {
     "duration": 0.010092,
     "end_time": "2024-04-07T08:03:43.311042",
     "exception": false,
     "start_time": "2024-04-07T08:03:43.300950",
     "status": "completed"
    },
    "tags": []
   },
   "source": [
    "***Interaction type of Buyer***"
   ]
  },
  {
   "cell_type": "code",
   "execution_count": 9,
   "id": "226cb095",
   "metadata": {
    "execution": {
     "iopub.execute_input": "2024-04-07T08:03:43.334677Z",
     "iopub.status.busy": "2024-04-07T08:03:43.334030Z",
     "iopub.status.idle": "2024-04-07T08:03:43.341210Z",
     "shell.execute_reply": "2024-04-07T08:03:43.340281Z"
    },
    "papermill": {
     "duration": 0.021388,
     "end_time": "2024-04-07T08:03:43.343246",
     "exception": false,
     "start_time": "2024-04-07T08:03:43.321858",
     "status": "completed"
    },
    "tags": []
   },
   "outputs": [
    {
     "data": {
      "text/plain": [
       "Interaction type\n",
       "like        1145\n",
       "view         871\n",
       "purchase     855\n",
       "Name: count, dtype: int64"
      ]
     },
     "execution_count": 9,
     "metadata": {},
     "output_type": "execute_result"
    }
   ],
   "source": [
    "df['Interaction type'].value_counts()"
   ]
  },
  {
   "cell_type": "markdown",
   "id": "256ef7e8",
   "metadata": {
    "papermill": {
     "duration": 0.010349,
     "end_time": "2024-04-07T08:03:43.364306",
     "exception": false,
     "start_time": "2024-04-07T08:03:43.353957",
     "status": "completed"
    },
    "tags": []
   },
   "source": [
    "***Ploting of Interaction Type by Buyer***"
   ]
  },
  {
   "cell_type": "code",
   "execution_count": 10,
   "id": "a43ebb56",
   "metadata": {
    "execution": {
     "iopub.execute_input": "2024-04-07T08:03:43.388056Z",
     "iopub.status.busy": "2024-04-07T08:03:43.387424Z",
     "iopub.status.idle": "2024-04-07T08:03:44.799788Z",
     "shell.execute_reply": "2024-04-07T08:03:44.798573Z"
    },
    "papermill": {
     "duration": 1.428489,
     "end_time": "2024-04-07T08:03:44.803501",
     "exception": false,
     "start_time": "2024-04-07T08:03:43.375012",
     "status": "completed"
    },
    "tags": []
   },
   "outputs": [
    {
     "data": {
      "image/png": "[encoded data removed]",
      "text/plain": [
       "<Figure size 640x480 with 1 Axes>"
      ]
     },
     "metadata": {},
     "output_type": "display_data"
    }
   ],
   "source": [
    "import matplotlib.pyplot as plt\n",
    "import seaborn as sns\n",
    "df['Interaction type'].value_counts().plot(kind='pie',autopct='%1.1f%%',labels=['like','view','purchease'],explode=[0,0,0.1])\n",
    "plt.ylabel(' ')\n",
    "plt.title('Distribution of Type of intraction')\n",
    "plt.show()"
   ]
  },
  {
   "cell_type": "markdown",
   "id": "be35a337",
   "metadata": {
    "papermill": {
     "duration": 0.017749,
     "end_time": "2024-04-07T08:03:44.839742",
     "exception": false,
     "start_time": "2024-04-07T08:03:44.821993",
     "status": "completed"
    },
    "tags": []
   },
   "source": [
    "***Import E-Commerece Sales data***"
   ]
  },
  {
   "cell_type": "markdown",
   "id": "2abb5575",
   "metadata": {
    "papermill": {
     "duration": 0.011033,
     "end_time": "2024-04-07T08:03:44.869133",
     "exception": false,
     "start_time": "2024-04-07T08:03:44.858100",
     "status": "completed"
    },
    "tags": []
   },
   "source": [
    "# Product Details Dataset"
   ]
  },
  {
   "cell_type": "code",
   "execution_count": 11,
   "id": "84f0a1d2",
   "metadata": {
    "execution": {
     "iopub.execute_input": "2024-04-07T08:03:44.963208Z",
     "iopub.status.busy": "2024-04-07T08:03:44.962545Z",
     "iopub.status.idle": "2024-04-07T08:03:45.558009Z",
     "shell.execute_reply": "2024-04-07T08:03:45.556890Z"
    },
    "papermill": {
     "duration": 0.611353,
     "end_time": "2024-04-07T08:03:45.560893",
     "exception": false,
     "start_time": "2024-04-07T08:03:44.949540",
     "status": "completed"
    },
    "tags": []
   },
   "outputs": [],
   "source": [
    "df1=pd.read_csv('e-commerece-sales-data-2024/product_details.csv')"
   ]
  },
  {
   "cell_type": "markdown",
   "id": "05a5d398",
   "metadata": {
    "papermill": {
     "duration": 0.010984,
     "end_time": "2024-04-07T08:03:45.583665",
     "exception": false,
     "start_time": "2024-04-07T08:03:45.572681",
     "status": "completed"
    },
    "tags": []
   },
   "source": [
    "***Showing head***"
   ]
  },
  {
   "cell_type": "code",
   "execution_count": 12,
   "id": "29dbc297",
   "metadata": {
    "execution": {
     "iopub.execute_input": "2024-04-07T08:03:45.608303Z",
     "iopub.status.busy": "2024-04-07T08:03:45.607863Z",
     "iopub.status.idle": "2024-04-07T08:03:45.714969Z",
     "shell.execute_reply": "2024-04-07T08:03:45.713948Z"
    },
    "papermill": {
     "duration": 0.121959,
     "end_time": "2024-04-07T08:03:45.717424",
     "exception": false,
     "start_time": "2024-04-07T08:03:45.595465",
     "status": "completed"
    },
    "tags": []
   },
   "outputs": [
    {
     "data": {
      "text/html": [
       "<div>\n",
       "<style scoped>\n",
       "    .dataframe tbody tr th:only-of-type {\n",
       "        vertical-align: middle;\n",
       "    }\n",
       "\n",
       "    .dataframe tbody tr th {\n",
       "        vertical-align: top;\n",
       "    }\n",
       "\n",
       "    .dataframe thead th {\n",
       "        text-align: right;\n",
       "    }\n",
       "</style>\n",
       "<table border=\"1\" class=\"dataframe\">\n",
       "  <thead>\n",
       "    <tr style=\"text-align: right;\">\n",
       "      <th></th>\n",
       "      <th>Uniqe Id</th>\n",
       "      <th>Product Name</th>\n",
       "      <th>Brand Name</th>\n",
       "      <th>Asin</th>\n",
       "      <th>Category</th>\n",
       "      <th>Upc Ean Code</th>\n",
       "      <th>List Price</th>\n",
       "      <th>Selling Price</th>\n",
       "      <th>Quantity</th>\n",
       "      <th>Model Number</th>\n",
       "      <th>...</th>\n",
       "      <th>Product Url</th>\n",
       "      <th>Stock</th>\n",
       "      <th>Product Details</th>\n",
       "      <th>Dimensions</th>\n",
       "      <th>Color</th>\n",
       "      <th>Ingredients</th>\n",
       "      <th>Direction To Use</th>\n",
       "      <th>Is Amazon Seller</th>\n",
       "      <th>Size Quantity Variant</th>\n",
       "      <th>Product Description</th>\n",
       "    </tr>\n",
       "  </thead>\n",
       "  <tbody>\n",
       "    <tr>\n",
       "      <th>0</th>\n",
       "      <td>4c69b61db1fc16e7013b43fc926e502d</td>\n",
       "      <td>DB Longboards CoreFlex Crossbow 41\" Bamboo Fib...</td>\n",
       "      <td>NaN</td>\n",
       "      <td>NaN</td>\n",
       "      <td>Sports &amp; Outdoors | Outdoor Recreation | Skate...</td>\n",
       "      <td>NaN</td>\n",
       "      <td>NaN</td>\n",
       "      <td>$237.68</td>\n",
       "      <td>NaN</td>\n",
       "      <td>NaN</td>\n",
       "      <td>...</td>\n",
       "      <td>https://www.amazon.com/DB-Longboards-CoreFlex-...</td>\n",
       "      <td>NaN</td>\n",
       "      <td>NaN</td>\n",
       "      <td>NaN</td>\n",
       "      <td>NaN</td>\n",
       "      <td>NaN</td>\n",
       "      <td>NaN</td>\n",
       "      <td>Y</td>\n",
       "      <td>NaN</td>\n",
       "      <td>NaN</td>\n",
       "    </tr>\n",
       "    <tr>\n",
       "      <th>1</th>\n",
       "      <td>66d49bbed043f5be260fa9f7fbff5957</td>\n",
       "      <td>Electronic Snap Circuits Mini Kits Classpack, ...</td>\n",
       "      <td>NaN</td>\n",
       "      <td>NaN</td>\n",
       "      <td>Toys &amp; Games | Learning &amp; Education | Science ...</td>\n",
       "      <td>NaN</td>\n",
       "      <td>NaN</td>\n",
       "      <td>$99.95</td>\n",
       "      <td>NaN</td>\n",
       "      <td>55324</td>\n",
       "      <td>...</td>\n",
       "      <td>https://www.amazon.com/Electronic-Circuits-Cla...</td>\n",
       "      <td>NaN</td>\n",
       "      <td>NaN</td>\n",
       "      <td>NaN</td>\n",
       "      <td>NaN</td>\n",
       "      <td>NaN</td>\n",
       "      <td>NaN</td>\n",
       "      <td>Y</td>\n",
       "      <td>NaN</td>\n",
       "      <td>NaN</td>\n",
       "    </tr>\n",
       "    <tr>\n",
       "      <th>2</th>\n",
       "      <td>2c55cae269aebf53838484b0d7dd931a</td>\n",
       "      <td>3Doodler Create Flexy 3D Printing Filament Ref...</td>\n",
       "      <td>NaN</td>\n",
       "      <td>NaN</td>\n",
       "      <td>Toys &amp; Games | Arts &amp; Crafts | Craft Kits</td>\n",
       "      <td>NaN</td>\n",
       "      <td>NaN</td>\n",
       "      <td>$34.99</td>\n",
       "      <td>NaN</td>\n",
       "      <td>NaN</td>\n",
       "      <td>...</td>\n",
       "      <td>https://www.amazon.com/3Doodler-Plastic-Innova...</td>\n",
       "      <td>NaN</td>\n",
       "      <td>NaN</td>\n",
       "      <td>NaN</td>\n",
       "      <td>NaN</td>\n",
       "      <td>NaN</td>\n",
       "      <td>NaN</td>\n",
       "      <td>Y</td>\n",
       "      <td>NaN</td>\n",
       "      <td>NaN</td>\n",
       "    </tr>\n",
       "    <tr>\n",
       "      <th>3</th>\n",
       "      <td>18018b6bc416dab347b1b7db79994afa</td>\n",
       "      <td>Guillow Airplane Design Studio with Travel Cas...</td>\n",
       "      <td>NaN</td>\n",
       "      <td>NaN</td>\n",
       "      <td>Toys &amp; Games | Hobbies | Models &amp; Model Kits |...</td>\n",
       "      <td>NaN</td>\n",
       "      <td>NaN</td>\n",
       "      <td>$28.91</td>\n",
       "      <td>NaN</td>\n",
       "      <td>142</td>\n",
       "      <td>...</td>\n",
       "      <td>https://www.amazon.com/Guillow-Airplane-Design...</td>\n",
       "      <td>NaN</td>\n",
       "      <td>NaN</td>\n",
       "      <td>NaN</td>\n",
       "      <td>NaN</td>\n",
       "      <td>NaN</td>\n",
       "      <td>NaN</td>\n",
       "      <td>Y</td>\n",
       "      <td>NaN</td>\n",
       "      <td>NaN</td>\n",
       "    </tr>\n",
       "    <tr>\n",
       "      <th>4</th>\n",
       "      <td>e04b990e95bf73bbe6a3fa09785d7cd0</td>\n",
       "      <td>Woodstock- Collage 500 pc Puzzle</td>\n",
       "      <td>NaN</td>\n",
       "      <td>NaN</td>\n",
       "      <td>Toys &amp; Games | Puzzles | Jigsaw Puzzles</td>\n",
       "      <td>NaN</td>\n",
       "      <td>NaN</td>\n",
       "      <td>$17.49</td>\n",
       "      <td>NaN</td>\n",
       "      <td>62151</td>\n",
       "      <td>...</td>\n",
       "      <td>https://www.amazon.com/Woodstock-Collage-500-p...</td>\n",
       "      <td>NaN</td>\n",
       "      <td>NaN</td>\n",
       "      <td>NaN</td>\n",
       "      <td>NaN</td>\n",
       "      <td>NaN</td>\n",
       "      <td>NaN</td>\n",
       "      <td>Y</td>\n",
       "      <td>NaN</td>\n",
       "      <td>NaN</td>\n",
       "    </tr>\n",
       "  </tbody>\n",
       "</table>\n",
       "<p>5 rows × 28 columns</p>\n",
       "</div>"
      ],
      "text/plain": [
       "                           Uniqe Id  \\\n",
       "0  4c69b61db1fc16e7013b43fc926e502d   \n",
       "1  66d49bbed043f5be260fa9f7fbff5957   \n",
       "2  2c55cae269aebf53838484b0d7dd931a   \n",
       "3  18018b6bc416dab347b1b7db79994afa   \n",
       "4  e04b990e95bf73bbe6a3fa09785d7cd0   \n",
       "\n",
       "                                        Product Name  Brand Name  Asin  \\\n",
       "0  DB Longboards CoreFlex Crossbow 41\" Bamboo Fib...         NaN   NaN   \n",
       "1  Electronic Snap Circuits Mini Kits Classpack, ...         NaN   NaN   \n",
       "2  3Doodler Create Flexy 3D Printing Filament Ref...         NaN   NaN   \n",
       "3  Guillow Airplane Design Studio with Travel Cas...         NaN   NaN   \n",
       "4                   Woodstock- Collage 500 pc Puzzle         NaN   NaN   \n",
       "\n",
       "                                            Category Upc Ean Code  List Price  \\\n",
       "0  Sports & Outdoors | Outdoor Recreation | Skate...          NaN         NaN   \n",
       "1  Toys & Games | Learning & Education | Science ...          NaN         NaN   \n",
       "2          Toys & Games | Arts & Crafts | Craft Kits          NaN         NaN   \n",
       "3  Toys & Games | Hobbies | Models & Model Kits |...          NaN         NaN   \n",
       "4            Toys & Games | Puzzles | Jigsaw Puzzles          NaN         NaN   \n",
       "\n",
       "  Selling Price  Quantity Model Number  ...  \\\n",
       "0       $237.68       NaN          NaN  ...   \n",
       "1        $99.95       NaN        55324  ...   \n",
       "2        $34.99       NaN          NaN  ...   \n",
       "3        $28.91       NaN          142  ...   \n",
       "4        $17.49       NaN        62151  ...   \n",
       "\n",
       "                                         Product Url Stock Product Details  \\\n",
       "0  https://www.amazon.com/DB-Longboards-CoreFlex-...   NaN             NaN   \n",
       "1  https://www.amazon.com/Electronic-Circuits-Cla...   NaN             NaN   \n",
       "2  https://www.amazon.com/3Doodler-Plastic-Innova...   NaN             NaN   \n",
       "3  https://www.amazon.com/Guillow-Airplane-Design...   NaN             NaN   \n",
       "4  https://www.amazon.com/Woodstock-Collage-500-p...   NaN             NaN   \n",
       "\n",
       "  Dimensions Color Ingredients Direction To Use  Is Amazon Seller  \\\n",
       "0        NaN   NaN         NaN              NaN                 Y   \n",
       "1        NaN   NaN         NaN              NaN                 Y   \n",
       "2        NaN   NaN         NaN              NaN                 Y   \n",
       "3        NaN   NaN         NaN              NaN                 Y   \n",
       "4        NaN   NaN         NaN              NaN                 Y   \n",
       "\n",
       "  Size Quantity Variant  Product Description  \n",
       "0                   NaN                  NaN  \n",
       "1                   NaN                  NaN  \n",
       "2                   NaN                  NaN  \n",
       "3                   NaN                  NaN  \n",
       "4                   NaN                  NaN  \n",
       "\n",
       "[5 rows x 28 columns]"
      ]
     },
     "execution_count": 12,
     "metadata": {},
     "output_type": "execute_result"
    }
   ],
   "source": [
    "df1.head()"
   ]
  },
  {
   "cell_type": "markdown",
   "id": "03cedcd1",
   "metadata": {
    "papermill": {
     "duration": 0.011177,
     "end_time": "2024-04-07T08:03:45.740420",
     "exception": false,
     "start_time": "2024-04-07T08:03:45.729243",
     "status": "completed"
    },
    "tags": []
   },
   "source": [
    "***Check Null Value***"
   ]
  },
  {
   "cell_type": "code",
   "execution_count": 13,
   "id": "b686664a",
   "metadata": {
    "execution": {
     "iopub.execute_input": "2024-04-07T08:03:45.764771Z",
     "iopub.status.busy": "2024-04-07T08:03:45.764360Z",
     "iopub.status.idle": "2024-04-07T08:03:45.783135Z",
     "shell.execute_reply": "2024-04-07T08:03:45.782139Z"
    },
    "papermill": {
     "duration": 0.033506,
     "end_time": "2024-04-07T08:03:45.785350",
     "exception": false,
     "start_time": "2024-04-07T08:03:45.751844",
     "status": "completed"
    },
    "tags": []
   },
   "outputs": [
    {
     "data": {
      "text/plain": [
       "Uniqe Id                     0\n",
       "Product Name                 0\n",
       "Brand Name               10002\n",
       "Asin                     10002\n",
       "Category                   830\n",
       "Upc Ean Code              9968\n",
       "List Price               10002\n",
       "Selling Price              107\n",
       "Quantity                 10002\n",
       "Model Number              1772\n",
       "About Product              273\n",
       "Product Specification     1632\n",
       "Technical Details          790\n",
       "Shipping Weight           1138\n",
       "Product Dimensions        9523\n",
       "Image                        0\n",
       "Variants                  7524\n",
       "Sku                      10002\n",
       "Product Url                  0\n",
       "Stock                    10002\n",
       "Product Details          10002\n",
       "Dimensions               10002\n",
       "Color                    10002\n",
       "Ingredients              10002\n",
       "Direction To Use         10002\n",
       "Is Amazon Seller             0\n",
       "Size Quantity Variant    10002\n",
       "Product Description      10002\n",
       "dtype: int64"
      ]
     },
     "execution_count": 13,
     "metadata": {},
     "output_type": "execute_result"
    }
   ],
   "source": [
    "df1.isnull().sum()"
   ]
  },
  {
   "cell_type": "markdown",
   "id": "956b0e21",
   "metadata": {
    "papermill": {
     "duration": 0.011325,
     "end_time": "2024-04-07T08:03:45.808493",
     "exception": false,
     "start_time": "2024-04-07T08:03:45.797168",
     "status": "completed"
    },
    "tags": []
   },
   "source": [
    "***Remove all Unusefull columns from dataset***"
   ]
  },
  {
   "cell_type": "code",
   "execution_count": 14,
   "id": "4e6c489c",
   "metadata": {
    "execution": {
     "iopub.execute_input": "2024-04-07T08:03:45.833618Z",
     "iopub.status.busy": "2024-04-07T08:03:45.832876Z",
     "iopub.status.idle": "2024-04-07T08:03:45.838296Z",
     "shell.execute_reply": "2024-04-07T08:03:45.837325Z"
    },
    "papermill": {
     "duration": 0.020299,
     "end_time": "2024-04-07T08:03:45.840324",
     "exception": false,
     "start_time": "2024-04-07T08:03:45.820025",
     "status": "completed"
    },
    "tags": []
   },
   "outputs": [],
   "source": [
    "remove_col=['Stock' ,'Product Details'          \n",
    ",'Dimensions'               \n",
    ",'Color'                    \n",
    ",'Ingredients'            \n",
    ",'Direction To Use','Size Quantity Variant','Product Description','Quantity','List Price','Variants',\n",
    "           'Brand Name','Asin','Upc Ean Code','Product Dimensions','Image','Product Url','Product Url','Sku','Product Specification','Uniqe Id','Model Number']"
   ]
  },
  {
   "cell_type": "code",
   "execution_count": 15,
   "id": "0ab4cf3a",
   "metadata": {
    "execution": {
     "iopub.execute_input": "2024-04-07T08:03:45.865222Z",
     "iopub.status.busy": "2024-04-07T08:03:45.864826Z",
     "iopub.status.idle": "2024-04-07T08:03:45.871217Z",
     "shell.execute_reply": "2024-04-07T08:03:45.870395Z"
    },
    "papermill": {
     "duration": 0.021372,
     "end_time": "2024-04-07T08:03:45.873320",
     "exception": false,
     "start_time": "2024-04-07T08:03:45.851948",
     "status": "completed"
    },
    "tags": []
   },
   "outputs": [],
   "source": [
    "df1=df1.drop(columns=remove_col)"
   ]
  },
  {
   "cell_type": "markdown",
   "id": "06916085",
   "metadata": {
    "papermill": {
     "duration": 0.011418,
     "end_time": "2024-04-07T08:03:45.896580",
     "exception": false,
     "start_time": "2024-04-07T08:03:45.885162",
     "status": "completed"
    },
    "tags": []
   },
   "source": [
    "***Drop NULL value***"
   ]
  },
  {
   "cell_type": "code",
   "execution_count": 16,
   "id": "56fa8ff7",
   "metadata": {
    "execution": {
     "iopub.execute_input": "2024-04-07T08:03:45.921736Z",
     "iopub.status.busy": "2024-04-07T08:03:45.921348Z",
     "iopub.status.idle": "2024-04-07T08:03:45.934896Z",
     "shell.execute_reply": "2024-04-07T08:03:45.934022Z"
    },
    "papermill": {
     "duration": 0.02889,
     "end_time": "2024-04-07T08:03:45.937101",
     "exception": false,
     "start_time": "2024-04-07T08:03:45.908211",
     "status": "completed"
    },
    "tags": []
   },
   "outputs": [],
   "source": [
    "df1=df1.dropna()"
   ]
  },
  {
   "cell_type": "markdown",
   "id": "93500c27",
   "metadata": {
    "papermill": {
     "duration": 0.011281,
     "end_time": "2024-04-07T08:03:45.960160",
     "exception": false,
     "start_time": "2024-04-07T08:03:45.948879",
     "status": "completed"
    },
    "tags": []
   },
   "source": [
    "***Bacis Information of sales data***"
   ]
  },
  {
   "cell_type": "code",
   "execution_count": 17,
   "id": "06e08381",
   "metadata": {
    "execution": {
     "iopub.execute_input": "2024-04-07T08:03:45.985155Z",
     "iopub.status.busy": "2024-04-07T08:03:45.984737Z",
     "iopub.status.idle": "2024-04-07T08:03:46.000739Z",
     "shell.execute_reply": "2024-04-07T08:03:45.999387Z"
    },
    "papermill": {
     "duration": 0.031027,
     "end_time": "2024-04-07T08:03:46.002659",
     "exception": false,
     "start_time": "2024-04-07T08:03:45.971632",
     "status": "completed"
    },
    "tags": []
   },
   "outputs": [
    {
     "name": "stdout",
     "output_type": "stream",
     "text": [
      "<class 'pandas.core.frame.DataFrame'>\n",
      "Index: 7683 entries, 1 to 10001\n",
      "Data columns (total 7 columns):\n",
      " #   Column             Non-Null Count  Dtype \n",
      "---  ------             --------------  ----- \n",
      " 0   Product Name       7683 non-null   object\n",
      " 1   Category           7683 non-null   object\n",
      " 2   Selling Price      7683 non-null   object\n",
      " 3   About Product      7683 non-null   object\n",
      " 4   Technical Details  7683 non-null   object\n",
      " 5   Shipping Weight    7683 non-null   object\n",
      " 6   Is Amazon Seller   7683 non-null   object\n",
      "dtypes: object(7)\n",
      "memory usage: 480.2+ KB\n"
     ]
    }
   ],
   "source": [
    "df1.info()"
   ]
  },
  {
   "cell_type": "markdown",
   "id": "f67fd889",
   "metadata": {
    "papermill": {
     "duration": 0.01125,
     "end_time": "2024-04-07T08:03:46.025779",
     "exception": false,
     "start_time": "2024-04-07T08:03:46.014529",
     "status": "completed"
    },
    "tags": []
   },
   "source": [
    "***Category of Sales***"
   ]
  },
  {
   "cell_type": "code",
   "execution_count": 18,
   "id": "9ba9369e",
   "metadata": {
    "execution": {
     "iopub.execute_input": "2024-04-07T08:03:46.052565Z",
     "iopub.status.busy": "2024-04-07T08:03:46.051801Z",
     "iopub.status.idle": "2024-04-07T08:03:46.138281Z",
     "shell.execute_reply": "2024-04-07T08:03:46.136860Z"
    },
    "papermill": {
     "duration": 0.102143,
     "end_time": "2024-04-07T08:03:46.140899",
     "exception": false,
     "start_time": "2024-04-07T08:03:46.038756",
     "status": "completed"
    },
    "tags": []
   },
   "outputs": [
    {
     "data": {
      "text/html": [
       "<style type=\"text/css\">\n",
       "#T_c30f5 th {\n",
       "  background: #f7f7f9;\n",
       "  color: black;\n",
       "  font-weight: bold;\n",
       "}\n",
       "</style>\n",
       "<table id=\"T_c30f5\">\n",
       "  <thead>\n",
       "    <tr>\n",
       "      <th class=\"blank level0\" >&nbsp;</th>\n",
       "      <th id=\"T_c30f5_level0_col0\" class=\"col_heading level0 col0\" >Category</th>\n",
       "      <th id=\"T_c30f5_level0_col1\" class=\"col_heading level0 col1\" >count</th>\n",
       "    </tr>\n",
       "  </thead>\n",
       "  <tbody>\n",
       "    <tr>\n",
       "      <th id=\"T_c30f5_level0_row0\" class=\"row_heading level0 row0\" >0</th>\n",
       "      <td id=\"T_c30f5_row0_col0\" class=\"data row0 col0\" >Toys & Games | Puzzles | Jigsaw Puzzles</td>\n",
       "      <td id=\"T_c30f5_row0_col1\" class=\"data row0 col1\" >269</td>\n",
       "    </tr>\n",
       "    <tr>\n",
       "      <th id=\"T_c30f5_level0_row1\" class=\"row_heading level0 row1\" >1</th>\n",
       "      <td id=\"T_c30f5_row1_col0\" class=\"data row1 col0\" >Toys & Games | Games & Accessories | Board Games</td>\n",
       "      <td id=\"T_c30f5_row1_col1\" class=\"data row1 col1\" >265</td>\n",
       "    </tr>\n",
       "    <tr>\n",
       "      <th id=\"T_c30f5_level0_row2\" class=\"row_heading level0 row2\" >2</th>\n",
       "      <td id=\"T_c30f5_row2_col0\" class=\"data row2 col0\" >Toys & Games | Stuffed Animals & Plush Toys | Stuffed Animals & Teddy Bears</td>\n",
       "      <td id=\"T_c30f5_row2_col1\" class=\"data row2 col1\" >243</td>\n",
       "    </tr>\n",
       "    <tr>\n",
       "      <th id=\"T_c30f5_level0_row3\" class=\"row_heading level0 row3\" >3</th>\n",
       "      <td id=\"T_c30f5_row3_col0\" class=\"data row3 col0\" >Toys & Games | Toy Figures & Playsets | Action Figures</td>\n",
       "      <td id=\"T_c30f5_row3_col1\" class=\"data row3 col1\" >226</td>\n",
       "    </tr>\n",
       "    <tr>\n",
       "      <th id=\"T_c30f5_level0_row4\" class=\"row_heading level0 row4\" >4</th>\n",
       "      <td id=\"T_c30f5_row4_col0\" class=\"data row4 col0\" >Toys & Games | Party Supplies</td>\n",
       "      <td id=\"T_c30f5_row4_col1\" class=\"data row4 col1\" >191</td>\n",
       "    </tr>\n",
       "    <tr>\n",
       "      <th id=\"T_c30f5_level0_row5\" class=\"row_heading level0 row5\" >5</th>\n",
       "      <td id=\"T_c30f5_row5_col0\" class=\"data row5 col0\" >Toys & Games | Dolls & Accessories | Dolls</td>\n",
       "      <td id=\"T_c30f5_row5_col1\" class=\"data row5 col1\" >185</td>\n",
       "    </tr>\n",
       "    <tr>\n",
       "      <th id=\"T_c30f5_level0_row6\" class=\"row_heading level0 row6\" >6</th>\n",
       "      <td id=\"T_c30f5_row6_col0\" class=\"data row6 col0\" >Toys & Games | Dress Up & Pretend Play | Costumes</td>\n",
       "      <td id=\"T_c30f5_row6_col1\" class=\"data row6 col1\" >150</td>\n",
       "    </tr>\n",
       "    <tr>\n",
       "      <th id=\"T_c30f5_level0_row7\" class=\"row_heading level0 row7\" >7</th>\n",
       "      <td id=\"T_c30f5_row7_col0\" class=\"data row7 col0\" >Toys & Games | Hobbies | Remote & App Controlled Vehicles & Parts | Remote & App Controlled Vehicle Parts</td>\n",
       "      <td id=\"T_c30f5_row7_col1\" class=\"data row7 col1\" >149</td>\n",
       "    </tr>\n",
       "    <tr>\n",
       "      <th id=\"T_c30f5_level0_row8\" class=\"row_heading level0 row8\" >8</th>\n",
       "      <td id=\"T_c30f5_row8_col0\" class=\"data row8 col0\" >Toys & Games | Arts & Crafts</td>\n",
       "      <td id=\"T_c30f5_row8_col1\" class=\"data row8 col1\" >128</td>\n",
       "    </tr>\n",
       "    <tr>\n",
       "      <th id=\"T_c30f5_level0_row9\" class=\"row_heading level0 row9\" >9</th>\n",
       "      <td id=\"T_c30f5_row9_col0\" class=\"data row9 col0\" >Toys & Games | Novelty & Gag Toys</td>\n",
       "      <td id=\"T_c30f5_row9_col1\" class=\"data row9 col1\" >128</td>\n",
       "    </tr>\n",
       "    <tr>\n",
       "      <th id=\"T_c30f5_level0_row10\" class=\"row_heading level0 row10\" >10</th>\n",
       "      <td id=\"T_c30f5_row10_col0\" class=\"data row10 col0\" >Clothing, Shoes & Jewelry | Costumes & Accessories | Kids & Baby | Girls | Costumes</td>\n",
       "      <td id=\"T_c30f5_row10_col1\" class=\"data row10 col1\" >109</td>\n",
       "    </tr>\n",
       "    <tr>\n",
       "      <th id=\"T_c30f5_level0_row11\" class=\"row_heading level0 row11\" >11</th>\n",
       "      <td id=\"T_c30f5_row11_col0\" class=\"data row11 col0\" >Toys & Games | Building Toys | Building Sets</td>\n",
       "      <td id=\"T_c30f5_row11_col1\" class=\"data row11 col1\" >108</td>\n",
       "    </tr>\n",
       "    <tr>\n",
       "      <th id=\"T_c30f5_level0_row12\" class=\"row_heading level0 row12\" >12</th>\n",
       "      <td id=\"T_c30f5_row12_col0\" class=\"data row12 col0\" >Toys & Games | Games & Accessories</td>\n",
       "      <td id=\"T_c30f5_row12_col1\" class=\"data row12 col1\" >106</td>\n",
       "    </tr>\n",
       "    <tr>\n",
       "      <th id=\"T_c30f5_level0_row13\" class=\"row_heading level0 row13\" >13</th>\n",
       "      <td id=\"T_c30f5_row13_col0\" class=\"data row13 col0\" >Toys & Games | Games & Accessories | Card Games</td>\n",
       "      <td id=\"T_c30f5_row13_col1\" class=\"data row13 col1\" >104</td>\n",
       "    </tr>\n",
       "    <tr>\n",
       "      <th id=\"T_c30f5_level0_row14\" class=\"row_heading level0 row14\" >14</th>\n",
       "      <td id=\"T_c30f5_row14_col0\" class=\"data row14 col0\" >Clothing, Shoes & Jewelry | Costumes & Accessories | Women | Costumes & Cosplay Apparel | Costumes</td>\n",
       "      <td id=\"T_c30f5_row14_col1\" class=\"data row14 col1\" >102</td>\n",
       "    </tr>\n",
       "    <tr>\n",
       "      <th id=\"T_c30f5_level0_row15\" class=\"row_heading level0 row15\" >15</th>\n",
       "      <td id=\"T_c30f5_row15_col0\" class=\"data row15 col0\" >Toys & Games | Arts & Crafts | Craft Kits</td>\n",
       "      <td id=\"T_c30f5_row15_col1\" class=\"data row15 col1\" >92</td>\n",
       "    </tr>\n",
       "    <tr>\n",
       "      <th id=\"T_c30f5_level0_row16\" class=\"row_heading level0 row16\" >16</th>\n",
       "      <td id=\"T_c30f5_row16_col0\" class=\"data row16 col0\" >Toys & Games | Stuffed Animals & Plush Toys</td>\n",
       "      <td id=\"T_c30f5_row16_col1\" class=\"data row16 col1\" >88</td>\n",
       "    </tr>\n",
       "    <tr>\n",
       "      <th id=\"T_c30f5_level0_row17\" class=\"row_heading level0 row17\" >17</th>\n",
       "      <td id=\"T_c30f5_row17_col0\" class=\"data row17 col0\" >Toys & Games | Arts & Crafts | Stickers</td>\n",
       "      <td id=\"T_c30f5_row17_col1\" class=\"data row17 col1\" >80</td>\n",
       "    </tr>\n",
       "    <tr>\n",
       "      <th id=\"T_c30f5_level0_row18\" class=\"row_heading level0 row18\" >18</th>\n",
       "      <td id=\"T_c30f5_row18_col0\" class=\"data row18 col0\" >Toys & Games | Learning & Education | Science Kits & Toys</td>\n",
       "      <td id=\"T_c30f5_row18_col1\" class=\"data row18 col1\" >77</td>\n",
       "    </tr>\n",
       "    <tr>\n",
       "      <th id=\"T_c30f5_level0_row19\" class=\"row_heading level0 row19\" >19</th>\n",
       "      <td id=\"T_c30f5_row19_col0\" class=\"data row19 col0\" >Toys & Games | Baby & Toddler Toys</td>\n",
       "      <td id=\"T_c30f5_row19_col1\" class=\"data row19 col1\" >77</td>\n",
       "    </tr>\n",
       "  </tbody>\n",
       "</table>\n"
      ],
      "text/plain": [
       "<pandas.io.formats.style.Styler at 0x7dfeeb305480>"
      ]
     },
     "execution_count": 18,
     "metadata": {},
     "output_type": "execute_result"
    }
   ],
   "source": [
    "category=df1['Category'].value_counts().reset_index().head(20)\n",
    "styled_table = category.style.set_table_styles([\n",
    "    {'selector': 'th', 'props': [('background', '#f7f7f9'), ('color', 'black'), ('font-weight', 'bold')]},\n",
    "])\n",
    "\n",
    "styled_table"
   ]
  },
  {
   "cell_type": "markdown",
   "id": "bc1834f4",
   "metadata": {
    "papermill": {
     "duration": 0.012199,
     "end_time": "2024-04-07T08:03:46.165804",
     "exception": false,
     "start_time": "2024-04-07T08:03:46.153605",
     "status": "completed"
    },
    "tags": []
   },
   "source": [
    "***Distribution of seller By Amazon(YES/NO)***"
   ]
  },
  {
   "cell_type": "code",
   "execution_count": 19,
   "id": "1492f420",
   "metadata": {
    "execution": {
     "iopub.execute_input": "2024-04-07T08:03:46.192179Z",
     "iopub.status.busy": "2024-04-07T08:03:46.191621Z",
     "iopub.status.idle": "2024-04-07T08:03:46.322593Z",
     "shell.execute_reply": "2024-04-07T08:03:46.321452Z"
    },
    "papermill": {
     "duration": 0.147654,
     "end_time": "2024-04-07T08:03:46.325672",
     "exception": false,
     "start_time": "2024-04-07T08:03:46.178018",
     "status": "completed"
    },
    "tags": []
   },
   "outputs": [
    {
     "data": {
      "image/png": "[encoded data removed]",
      "text/plain": [
       "<Figure size 640x480 with 1 Axes>"
      ]
     },
     "metadata": {},
     "output_type": "display_data"
    }
   ],
   "source": [
    "df1['Is Amazon Seller'].value_counts().plot(kind='pie',autopct='%1.1f%%',labels=['Yes','No'],explode=[0,0.3])\n",
    "plt.ylabel(' ')\n",
    "plt.title('Is Amazon seller yes/no')\n",
    "plt.show()"
   ]
  },
  {
   "cell_type": "markdown",
   "id": "1a5f8ea0",
   "metadata": {
    "papermill": {
     "duration": 0.02047,
     "end_time": "2024-04-07T08:03:46.368178",
     "exception": false,
     "start_time": "2024-04-07T08:03:46.347708",
     "status": "completed"
    },
    "tags": []
   },
   "source": [
    "# Customer Dataset"
   ]
  },
  {
   "cell_type": "markdown",
   "id": "316894f9",
   "metadata": {
    "papermill": {
     "duration": 0.015139,
     "end_time": "2024-04-07T08:03:46.404032",
     "exception": false,
     "start_time": "2024-04-07T08:03:46.388893",
     "status": "completed"
    },
    "tags": []
   },
   "source": [
    "***Import Customer dataset***"
   ]
  },
  {
   "cell_type": "code",
   "execution_count": 20,
   "id": "118ff9be",
   "metadata": {
    "execution": {
     "iopub.execute_input": "2024-04-07T08:03:46.431875Z",
     "iopub.status.busy": "2024-04-07T08:03:46.430884Z",
     "iopub.status.idle": "2024-04-07T08:03:46.473315Z",
     "shell.execute_reply": "2024-04-07T08:03:46.472282Z"
    },
    "papermill": {
     "duration": 0.058999,
     "end_time": "2024-04-07T08:03:46.475784",
     "exception": false,
     "start_time": "2024-04-07T08:03:46.416785",
     "status": "completed"
    },
    "tags": []
   },
   "outputs": [
    {
     "data": {
      "text/html": [
       "<div>\n",
       "<style scoped>\n",
       "    .dataframe tbody tr th:only-of-type {\n",
       "        vertical-align: middle;\n",
       "    }\n",
       "\n",
       "    .dataframe tbody tr th {\n",
       "        vertical-align: top;\n",
       "    }\n",
       "\n",
       "    .dataframe thead th {\n",
       "        text-align: right;\n",
       "    }\n",
       "</style>\n",
       "<table border=\"1\" class=\"dataframe\">\n",
       "  <thead>\n",
       "    <tr style=\"text-align: right;\">\n",
       "      <th></th>\n",
       "      <th>Customer ID</th>\n",
       "      <th>Age</th>\n",
       "      <th>Gender</th>\n",
       "      <th>Item Purchased</th>\n",
       "      <th>Category</th>\n",
       "      <th>Purchase Amount (USD)</th>\n",
       "      <th>Location</th>\n",
       "      <th>Size</th>\n",
       "      <th>Color</th>\n",
       "      <th>Season</th>\n",
       "      <th>Review Rating</th>\n",
       "      <th>Subscription Status</th>\n",
       "      <th>Shipping Type</th>\n",
       "      <th>Discount Applied</th>\n",
       "      <th>Promo Code Used</th>\n",
       "      <th>Previous Purchases</th>\n",
       "      <th>Payment Method</th>\n",
       "      <th>Frequency of Purchases</th>\n",
       "    </tr>\n",
       "  </thead>\n",
       "  <tbody>\n",
       "    <tr>\n",
       "      <th>0</th>\n",
       "      <td>1</td>\n",
       "      <td>55</td>\n",
       "      <td>Male</td>\n",
       "      <td>Blouse</td>\n",
       "      <td>Clothing</td>\n",
       "      <td>53</td>\n",
       "      <td>Kentucky</td>\n",
       "      <td>L</td>\n",
       "      <td>Gray</td>\n",
       "      <td>Winter</td>\n",
       "      <td>3.1</td>\n",
       "      <td>Yes</td>\n",
       "      <td>Express</td>\n",
       "      <td>Yes</td>\n",
       "      <td>Yes</td>\n",
       "      <td>14</td>\n",
       "      <td>Venmo</td>\n",
       "      <td>Fortnightly</td>\n",
       "    </tr>\n",
       "    <tr>\n",
       "      <th>1</th>\n",
       "      <td>2</td>\n",
       "      <td>19</td>\n",
       "      <td>Male</td>\n",
       "      <td>Sweater</td>\n",
       "      <td>Clothing</td>\n",
       "      <td>64</td>\n",
       "      <td>Maine</td>\n",
       "      <td>L</td>\n",
       "      <td>Maroon</td>\n",
       "      <td>Winter</td>\n",
       "      <td>3.1</td>\n",
       "      <td>Yes</td>\n",
       "      <td>Express</td>\n",
       "      <td>Yes</td>\n",
       "      <td>Yes</td>\n",
       "      <td>2</td>\n",
       "      <td>Cash</td>\n",
       "      <td>Fortnightly</td>\n",
       "    </tr>\n",
       "    <tr>\n",
       "      <th>2</th>\n",
       "      <td>3</td>\n",
       "      <td>50</td>\n",
       "      <td>Male</td>\n",
       "      <td>Jeans</td>\n",
       "      <td>Clothing</td>\n",
       "      <td>73</td>\n",
       "      <td>Massachusetts</td>\n",
       "      <td>S</td>\n",
       "      <td>Maroon</td>\n",
       "      <td>Spring</td>\n",
       "      <td>3.1</td>\n",
       "      <td>Yes</td>\n",
       "      <td>Free Shipping</td>\n",
       "      <td>Yes</td>\n",
       "      <td>Yes</td>\n",
       "      <td>23</td>\n",
       "      <td>Credit Card</td>\n",
       "      <td>Weekly</td>\n",
       "    </tr>\n",
       "    <tr>\n",
       "      <th>3</th>\n",
       "      <td>4</td>\n",
       "      <td>21</td>\n",
       "      <td>Male</td>\n",
       "      <td>Sandals</td>\n",
       "      <td>Footwear</td>\n",
       "      <td>90</td>\n",
       "      <td>Rhode Island</td>\n",
       "      <td>M</td>\n",
       "      <td>Maroon</td>\n",
       "      <td>Spring</td>\n",
       "      <td>3.5</td>\n",
       "      <td>Yes</td>\n",
       "      <td>Next Day Air</td>\n",
       "      <td>Yes</td>\n",
       "      <td>Yes</td>\n",
       "      <td>49</td>\n",
       "      <td>PayPal</td>\n",
       "      <td>Weekly</td>\n",
       "    </tr>\n",
       "    <tr>\n",
       "      <th>4</th>\n",
       "      <td>5</td>\n",
       "      <td>45</td>\n",
       "      <td>Male</td>\n",
       "      <td>Blouse</td>\n",
       "      <td>Clothing</td>\n",
       "      <td>49</td>\n",
       "      <td>Oregon</td>\n",
       "      <td>M</td>\n",
       "      <td>Turquoise</td>\n",
       "      <td>Spring</td>\n",
       "      <td>2.7</td>\n",
       "      <td>Yes</td>\n",
       "      <td>Free Shipping</td>\n",
       "      <td>Yes</td>\n",
       "      <td>Yes</td>\n",
       "      <td>31</td>\n",
       "      <td>PayPal</td>\n",
       "      <td>Annually</td>\n",
       "    </tr>\n",
       "  </tbody>\n",
       "</table>\n",
       "</div>"
      ],
      "text/plain": [
       "   Customer ID  Age Gender Item Purchased  Category  Purchase Amount (USD)  \\\n",
       "0            1   55   Male         Blouse  Clothing                     53   \n",
       "1            2   19   Male        Sweater  Clothing                     64   \n",
       "2            3   50   Male          Jeans  Clothing                     73   \n",
       "3            4   21   Male        Sandals  Footwear                     90   \n",
       "4            5   45   Male         Blouse  Clothing                     49   \n",
       "\n",
       "        Location Size      Color  Season  Review Rating Subscription Status  \\\n",
       "0       Kentucky    L       Gray  Winter            3.1                 Yes   \n",
       "1          Maine    L     Maroon  Winter            3.1                 Yes   \n",
       "2  Massachusetts    S     Maroon  Spring            3.1                 Yes   \n",
       "3   Rhode Island    M     Maroon  Spring            3.5                 Yes   \n",
       "4         Oregon    M  Turquoise  Spring            2.7                 Yes   \n",
       "\n",
       "   Shipping Type Discount Applied Promo Code Used  Previous Purchases  \\\n",
       "0        Express              Yes             Yes                  14   \n",
       "1        Express              Yes             Yes                   2   \n",
       "2  Free Shipping              Yes             Yes                  23   \n",
       "3   Next Day Air              Yes             Yes                  49   \n",
       "4  Free Shipping              Yes             Yes                  31   \n",
       "\n",
       "  Payment Method Frequency of Purchases  \n",
       "0          Venmo            Fortnightly  \n",
       "1           Cash            Fortnightly  \n",
       "2    Credit Card                 Weekly  \n",
       "3         PayPal                 Weekly  \n",
       "4         PayPal               Annually  "
      ]
     },
     "execution_count": 20,
     "metadata": {},
     "output_type": "execute_result"
    }
   ],
   "source": [
    "df3=pd.read_csv('e-commerece-sales-data-2024/customer_details.csv')\n",
    "df3.head()"
   ]
  },
  {
   "cell_type": "markdown",
   "id": "e225a07a",
   "metadata": {
    "papermill": {
     "duration": 0.01243,
     "end_time": "2024-04-07T08:03:46.501184",
     "exception": false,
     "start_time": "2024-04-07T08:03:46.488754",
     "status": "completed"
    },
    "tags": []
   },
   "source": [
    "***Information of dataset***"
   ]
  },
  {
   "cell_type": "code",
   "execution_count": 21,
   "id": "635d2062",
   "metadata": {
    "execution": {
     "iopub.execute_input": "2024-04-07T08:03:46.529018Z",
     "iopub.status.busy": "2024-04-07T08:03:46.528221Z",
     "iopub.status.idle": "2024-04-07T08:03:46.542565Z",
     "shell.execute_reply": "2024-04-07T08:03:46.541245Z"
    },
    "papermill": {
     "duration": 0.030515,
     "end_time": "2024-04-07T08:03:46.544564",
     "exception": false,
     "start_time": "2024-04-07T08:03:46.514049",
     "status": "completed"
    },
    "tags": []
   },
   "outputs": [
    {
     "name": "stdout",
     "output_type": "stream",
     "text": [
      "<class 'pandas.core.frame.DataFrame'>\n",
      "RangeIndex: 3900 entries, 0 to 3899\n",
      "Data columns (total 18 columns):\n",
      " #   Column                  Non-Null Count  Dtype  \n",
      "---  ------                  --------------  -----  \n",
      " 0   Customer ID             3900 non-null   int64  \n",
      " 1   Age                     3900 non-null   int64  \n",
      " 2   Gender                  3900 non-null   object \n",
      " 3   Item Purchased          3900 non-null   object \n",
      " 4   Category                3900 non-null   object \n",
      " 5   Purchase Amount (USD)   3900 non-null   int64  \n",
      " 6   Location                3900 non-null   object \n",
      " 7   Size                    3900 non-null   object \n",
      " 8   Color                   3900 non-null   object \n",
      " 9   Season                  3900 non-null   object \n",
      " 10  Review Rating           3900 non-null   float64\n",
      " 11  Subscription Status     3900 non-null   object \n",
      " 12  Shipping Type           3900 non-null   object \n",
      " 13  Discount Applied        3900 non-null   object \n",
      " 14  Promo Code Used         3900 non-null   object \n",
      " 15  Previous Purchases      3900 non-null   int64  \n",
      " 16  Payment Method          3900 non-null   object \n",
      " 17  Frequency of Purchases  3900 non-null   object \n",
      "dtypes: float64(1), int64(4), object(13)\n",
      "memory usage: 548.6+ KB\n"
     ]
    }
   ],
   "source": [
    "df3.info()"
   ]
  },
  {
   "cell_type": "markdown",
   "id": "92b65330",
   "metadata": {
    "papermill": {
     "duration": 0.012193,
     "end_time": "2024-04-07T08:03:46.569499",
     "exception": false,
     "start_time": "2024-04-07T08:03:46.557306",
     "status": "completed"
    },
    "tags": []
   },
   "source": [
    "***Distribution of gender***"
   ]
  },
  {
   "cell_type": "code",
   "execution_count": 22,
   "id": "036b96df",
   "metadata": {
    "execution": {
     "iopub.execute_input": "2024-04-07T08:03:46.597203Z",
     "iopub.status.busy": "2024-04-07T08:03:46.596795Z",
     "iopub.status.idle": "2024-04-07T08:03:46.851402Z",
     "shell.execute_reply": "2024-04-07T08:03:46.850448Z"
    },
    "papermill": {
     "duration": 0.272708,
     "end_time": "2024-04-07T08:03:46.854652",
     "exception": false,
     "start_time": "2024-04-07T08:03:46.581944",
     "status": "completed"
    },
    "tags": []
   },
   "outputs": [
    {
     "data": {
      "image/png": "[encoded data removed]",
      "text/plain": [
       "<Figure size 640x480 with 1 Axes>"
      ]
     },
     "metadata": {},
     "output_type": "display_data"
    }
   ],
   "source": [
    "df3['Gender'].value_counts().plot(kind='bar')\n",
    "plt.title('Buyer distribution by gender')\n",
    "plt.tight_layout()\n",
    "plt.show()"
   ]
  },
  {
   "cell_type": "markdown",
   "id": "96893643",
   "metadata": {
    "papermill": {
     "duration": 0.012893,
     "end_time": "2024-04-07T08:03:46.880865",
     "exception": false,
     "start_time": "2024-04-07T08:03:46.867972",
     "status": "completed"
    },
    "tags": []
   },
   "source": [
    "***Purchase  Category of Customer***"
   ]
  },
  {
   "cell_type": "code",
   "execution_count": 23,
   "id": "8236662c",
   "metadata": {
    "execution": {
     "iopub.execute_input": "2024-04-07T08:03:46.909553Z",
     "iopub.status.busy": "2024-04-07T08:03:46.908645Z",
     "iopub.status.idle": "2024-04-07T08:03:47.199864Z",
     "shell.execute_reply": "2024-04-07T08:03:47.198821Z"
    },
    "papermill": {
     "duration": 0.309077,
     "end_time": "2024-04-07T08:03:47.203032",
     "exception": false,
     "start_time": "2024-04-07T08:03:46.893955",
     "status": "completed"
    },
    "tags": []
   },
   "outputs": [
    {
     "data": {
      "image/png": "[encoded data removed]",
      "text/plain": [
       "<Figure size 640x480 with 1 Axes>"
      ]
     },
     "metadata": {},
     "output_type": "display_data"
    }
   ],
   "source": [
    "df3['Category'].value_counts().plot(kind='bar')\n",
    "plt.title('Category')\n",
    "plt.tight_layout()\n",
    "plt.show()"
   ]
  },
  {
   "cell_type": "markdown",
   "id": "c665475c",
   "metadata": {
    "papermill": {
     "duration": 0.013841,
     "end_time": "2024-04-07T08:03:47.231713",
     "exception": false,
     "start_time": "2024-04-07T08:03:47.217872",
     "status": "completed"
    },
    "tags": []
   },
   "source": [
    "***Item Purchased Distribution***"
   ]
  },
  {
   "cell_type": "code",
   "execution_count": 24,
   "id": "a720394a",
   "metadata": {
    "execution": {
     "iopub.execute_input": "2024-04-07T08:03:47.261085Z",
     "iopub.status.busy": "2024-04-07T08:03:47.260278Z",
     "iopub.status.idle": "2024-04-07T08:03:47.748731Z",
     "shell.execute_reply": "2024-04-07T08:03:47.747615Z"
    },
    "papermill": {
     "duration": 0.505973,
     "end_time": "2024-04-07T08:03:47.751401",
     "exception": false,
     "start_time": "2024-04-07T08:03:47.245428",
     "status": "completed"
    },
    "tags": []
   },
   "outputs": [
    {
     "data": {
      "image/png": "[encoded data removed]",
      "text/plain": [
       "<Figure size 1200x600 with 1 Axes>"
      ]
     },
     "metadata": {},
     "output_type": "display_data"
    }
   ],
   "source": [
    "plt.figure(figsize=(12,6))\n",
    "df3['Item Purchased'].value_counts().plot(kind='bar')\n",
    "plt.title('Item Ourchased')\n",
    "plt.tight_layout()\n",
    "plt.show()"
   ]
  },
  {
   "cell_type": "markdown",
   "id": "7cd11f24",
   "metadata": {
    "papermill": {
     "duration": 0.014484,
     "end_time": "2024-04-07T08:03:47.781515",
     "exception": false,
     "start_time": "2024-04-07T08:03:47.767031",
     "status": "completed"
    },
    "tags": []
   },
   "source": [
    "***season vise customer***"
   ]
  },
  {
   "cell_type": "code",
   "execution_count": 25,
   "id": "531a56be",
   "metadata": {
    "execution": {
     "iopub.execute_input": "2024-04-07T08:03:47.812632Z",
     "iopub.status.busy": "2024-04-07T08:03:47.811829Z",
     "iopub.status.idle": "2024-04-07T08:03:47.938271Z",
     "shell.execute_reply": "2024-04-07T08:03:47.937274Z"
    },
    "papermill": {
     "duration": 0.146533,
     "end_time": "2024-04-07T08:03:47.942405",
     "exception": false,
     "start_time": "2024-04-07T08:03:47.795872",
     "status": "completed"
    },
    "tags": []
   },
   "outputs": [
    {
     "data": {
      "image/png": "[encoded data removed]",
      "text/plain": [
       "<Figure size 640x480 with 1 Axes>"
      ]
     },
     "metadata": {},
     "output_type": "display_data"
    }
   ],
   "source": [
    "df3['Season'].value_counts().plot(kind='pie',autopct='%1.1f%%',labels=['Spring','Fall','Winter','Summer'],explode=[0,0,0,0.1])\n",
    "plt.ylabel(' ')\n",
    "plt.title('Season')\n",
    "plt.show()"
   ]
  },
  {
   "cell_type": "markdown",
   "id": "96e10340",
   "metadata": {
    "papermill": {
     "duration": 0.023999,
     "end_time": "2024-04-07T08:03:47.991437",
     "exception": false,
     "start_time": "2024-04-07T08:03:47.967438",
     "status": "completed"
    },
    "tags": []
   },
   "source": [
    "***Frequency of Purchases***"
   ]
  },
  {
   "cell_type": "code",
   "execution_count": 26,
   "id": "e0671f32",
   "metadata": {
    "execution": {
     "iopub.execute_input": "2024-04-07T08:03:48.030266Z",
     "iopub.status.busy": "2024-04-07T08:03:48.029544Z",
     "iopub.status.idle": "2024-04-07T08:03:48.199983Z",
     "shell.execute_reply": "2024-04-07T08:03:48.198772Z"
    },
    "papermill": {
     "duration": 0.189546,
     "end_time": "2024-04-07T08:03:48.202994",
     "exception": false,
     "start_time": "2024-04-07T08:03:48.013448",
     "status": "completed"
    },
    "tags": []
   },
   "outputs": [
    {
     "data": {
      "image/png": "[encoded data removed]",
      "text/plain": [
       "<Figure size 640x480 with 1 Axes>"
      ]
     },
     "metadata": {},
     "output_type": "display_data"
    }
   ],
   "source": [
    "df3['Frequency of Purchases'].value_counts().plot(kind='pie',autopct='%1.1f%%',labels=['Every 3 Month','Annually','Quarterly','Monthly','Bi-weekly','Fortnightly','weekly'],explode=[0,0,0,0,0,0,0.1])\n",
    "plt.ylabel(' ')\n",
    "plt.title('Frequency of Purchases')\n",
    "plt.show()"
   ]
  },
  {
   "cell_type": "markdown",
   "id": "570b46e1",
   "metadata": {
    "papermill": {
     "duration": 0.02262,
     "end_time": "2024-04-07T08:03:48.252513",
     "exception": false,
     "start_time": "2024-04-07T08:03:48.229893",
     "status": "completed"
    },
    "tags": []
   },
   "source": [
    "***Payment Method***"
   ]
  },
  {
   "cell_type": "code",
   "execution_count": 27,
   "id": "b020b811",
   "metadata": {
    "execution": {
     "iopub.execute_input": "2024-04-07T08:03:48.285776Z",
     "iopub.status.busy": "2024-04-07T08:03:48.284773Z",
     "iopub.status.idle": "2024-04-07T08:03:48.585052Z",
     "shell.execute_reply": "2024-04-07T08:03:48.583964Z"
    },
    "papermill": {
     "duration": 0.319321,
     "end_time": "2024-04-07T08:03:48.587273",
     "exception": false,
     "start_time": "2024-04-07T08:03:48.267952",
     "status": "completed"
    },
    "tags": []
   },
   "outputs": [
    {
     "data": {
      "image/png": "[encoded data removed]",
      "text/plain": [
       "<Figure size 640x480 with 1 Axes>"
      ]
     },
     "metadata": {},
     "output_type": "display_data"
    }
   ],
   "source": [
    "df3['Payment Method'].value_counts().plot(kind='bar')\n",
    "plt.title('Payment Method')\n",
    "plt.tight_layout()\n",
    "plt.show()"
   ]
  },
  {
   "cell_type": "code",
   "execution_count": null,
   "id": "7a34332c",
   "metadata": {
    "papermill": {
     "duration": 0.015819,
     "end_time": "2024-04-07T08:03:48.619745",
     "exception": false,
     "start_time": "2024-04-07T08:03:48.603926",
     "status": "completed"
    },
    "tags": []
   },
   "outputs": [],
   "source": []
  }
 ],
 "metadata": {
  "kaggle": {
   "accelerator": "none",
   "dataSources": [
    {
     "datasetId": 4738072,
     "sourceId": 8037121,
     "sourceType": "datasetVersion"
    }
   ],
   "dockerImageVersionId": 30673,
   "isGpuEnabled": false,
   "isInternetEnabled": true,
   "language": "python",
   "sourceType": "notebook"
  },
  "kernelspec": {
   "display_name": "Python 3",
   "language": "python",
   "name": "python3"
  },
  "language_info": {
   "codemirror_mode": {
    "name": "ipython",
    "version": 3
   },
   "file_extension": ".py",
   "mimetype": "text/x-python",
   "name": "python",
   "nbconvert_exporter": "python",
   "pygments_lexer": "ipython3",
   "version": "3.10.13"
  },
  "papermill": {
   "default_parameters": {},
   "duration": 9.85443,
   "end_time": "2024-04-07T08:03:49.256711",
   "environment_variables": {},
   "exception": null,
   "input_path": "__notebook__.ipynb",
   "output_path": "__notebook__.ipynb",
   "parameters": {},
   "start_time": "2024-04-07T08:03:39.402281",
   "version": "2.5.0"
  }
 },
 "nbformat": 4,
 "nbformat_minor": 5
}
